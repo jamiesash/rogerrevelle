{
 "cells": [
  {
   "cell_type": "code",
   "execution_count": 4,
   "metadata": {},
   "outputs": [],
   "source": [
    "from erddapClient import ERDDAP_Griddap\n",
    "url = 'https://coastwatch.pfeg.noaa.gov/erddap/griddap/goes_west.nc?sea_surface_temperature%5B(2024-06-07T16:00:00Z):1:(2024-06-07T16:00:00Z)%5D%5B(60):1:(30)%5D%5B(-90):1:(-30)%5D'\n",
    "datasetid = 'goes_west'\n",
    "remote = ERDDAP_Griddap(url, datasetid)"
   ]
  },
  {
   "cell_type": "code",
   "execution_count": 6,
   "metadata": {},
   "outputs": [
    {
     "name": "stdout",
     "output_type": "stream",
     "text": [
      "ERDDAP Error: \"Bad Request: Query error: \\\",\\\" or \\\"[end of query]\\\" was expected at or after position=100, not \\\"/\\\".\"\n"
     ]
    },
    {
     "ename": "HTTPError",
     "evalue": "400 Client Error:  for url: https://coastwatch.pfeg.noaa.gov/erddap/griddap/goes_west.nc?sea_surface_temperature%5B(2024-06-07T16:00:00Z):1:(2024-06-07T16:00:00Z)%5D%5B(60):1:(30)%5D%5B(-90):1:(-30)%5D/info/goes_west/index.json",
     "output_type": "error",
     "traceback": [
      "\u001b[0;31m---------------------------------------------------------------------------\u001b[0m",
      "\u001b[0;31mHTTPError\u001b[0m                                 Traceback (most recent call last)",
      "Cell \u001b[0;32mIn[6], line 1\u001b[0m\n\u001b[0;32m----> 1\u001b[0m \u001b[38;5;28;43mprint\u001b[39;49m\u001b[43m(\u001b[49m\u001b[43mremote\u001b[49m\u001b[43m)\u001b[49m\n",
      "File \u001b[0;32m~/miniconda3/envs/uhdas/lib/python3.11/site-packages/erddapClient/erddap_griddap.py:34\u001b[0m, in \u001b[0;36mERDDAP_Griddap.__str__\u001b[0;34m(self)\u001b[0m\n\u001b[1;32m     33\u001b[0m \u001b[38;5;28;01mdef\u001b[39;00m \u001b[38;5;21m__str__\u001b[39m(\u001b[38;5;28mself\u001b[39m):\n\u001b[0;32m---> 34\u001b[0m   dst_repr_ \u001b[38;5;241m=\u001b[39m \u001b[38;5;28;43msuper\u001b[39;49m\u001b[43m(\u001b[49m\u001b[43m)\u001b[49m\u001b[38;5;241;43m.\u001b[39;49m\u001b[38;5;21;43m__str__\u001b[39;49m\u001b[43m(\u001b[49m\u001b[43m)\u001b[49m\n\u001b[1;32m     35\u001b[0m   \u001b[38;5;28;01mreturn\u001b[39;00m dst_repr_ \u001b[38;5;241m+\u001b[39m griddap_str(\u001b[38;5;28mself\u001b[39m)\n",
      "File \u001b[0;32m~/miniconda3/envs/uhdas/lib/python3.11/site-packages/erddapClient/erddap_dataset.py:40\u001b[0m, in \u001b[0;36mERDDAP_Dataset.__str__\u001b[0;34m(self)\u001b[0m\n\u001b[1;32m     39\u001b[0m \u001b[38;5;28;01mdef\u001b[39;00m \u001b[38;5;21m__str__\u001b[39m(\u001b[38;5;28mself\u001b[39m):\n\u001b[0;32m---> 40\u001b[0m   \u001b[38;5;28;01mreturn\u001b[39;00m \u001b[43mdataset_str\u001b[49m\u001b[43m(\u001b[49m\u001b[38;5;28;43mself\u001b[39;49m\u001b[43m)\u001b[49m\n",
      "File \u001b[0;32m~/miniconda3/envs/uhdas/lib/python3.11/site-packages/erddapClient/formatting.py:22\u001b[0m, in \u001b[0;36mdataset_str\u001b[0;34m(ds)\u001b[0m\n\u001b[1;32m     20\u001b[0m \u001b[38;5;28;01mdef\u001b[39;00m \u001b[38;5;21mdataset_str\u001b[39m(ds):\n\u001b[1;32m     21\u001b[0m     summary \u001b[38;5;241m=\u001b[39m [\u001b[38;5;124m\"\u001b[39m\u001b[38;5;124m<erddapClient.\u001b[39m\u001b[38;5;132;01m{}\u001b[39;00m\u001b[38;5;124m>\u001b[39m\u001b[38;5;124m\"\u001b[39m\u001b[38;5;241m.\u001b[39mformat(\u001b[38;5;28mtype\u001b[39m(ds)\u001b[38;5;241m.\u001b[39m\u001b[38;5;18m__name__\u001b[39m)]\n\u001b[0;32m---> 22\u001b[0m     summary\u001b[38;5;241m.\u001b[39mappend(\u001b[38;5;124m\"\u001b[39m\u001b[38;5;124mTitle:       \u001b[39m\u001b[38;5;132;01m{}\u001b[39;00m\u001b[38;5;124m\"\u001b[39m\u001b[38;5;241m.\u001b[39mformat(\u001b[43mds\u001b[49m\u001b[38;5;241;43m.\u001b[39;49m\u001b[43mgetAttribute\u001b[49m\u001b[43m(\u001b[49m\u001b[38;5;124;43m'\u001b[39;49m\u001b[38;5;124;43mtitle\u001b[39;49m\u001b[38;5;124;43m'\u001b[39;49m\u001b[43m)\u001b[49m))\n\u001b[1;32m     23\u001b[0m     summary\u001b[38;5;241m.\u001b[39mappend(\u001b[38;5;124m\"\u001b[39m\u001b[38;5;124mServer URL:  \u001b[39m\u001b[38;5;132;01m{}\u001b[39;00m\u001b[38;5;124m\"\u001b[39m\u001b[38;5;241m.\u001b[39mformat(ds\u001b[38;5;241m.\u001b[39merddapurl))\n\u001b[1;32m     24\u001b[0m     summary\u001b[38;5;241m.\u001b[39mappend(\u001b[38;5;124m\"\u001b[39m\u001b[38;5;124mDataset ID:  \u001b[39m\u001b[38;5;132;01m{}\u001b[39;00m\u001b[38;5;124m\"\u001b[39m\u001b[38;5;241m.\u001b[39mformat(ds\u001b[38;5;241m.\u001b[39mdatasetid))\n",
      "File \u001b[0;32m~/miniconda3/envs/uhdas/lib/python3.11/site-packages/erddapClient/erddap_dataset.py:193\u001b[0m, in \u001b[0;36mERDDAP_Dataset.getAttribute\u001b[0;34m(self, attribute, variableName)\u001b[0m\n\u001b[1;32m    186\u001b[0m \u001b[38;5;28;01mdef\u001b[39;00m \u001b[38;5;21mgetAttribute\u001b[39m(\u001b[38;5;28mself\u001b[39m, attribute, variableName\u001b[38;5;241m=\u001b[39m\u001b[38;5;124m'\u001b[39m\u001b[38;5;124mNC_GLOBAL\u001b[39m\u001b[38;5;124m'\u001b[39m):\n\u001b[1;32m    187\u001b[0m \u001b[38;5;250m  \u001b[39m\u001b[38;5;124;03m\"\"\"\u001b[39;00m\n\u001b[1;32m    188\u001b[0m \u001b[38;5;124;03m  Returns the value for a attribute name in the dataset. If the metadata of the\u001b[39;00m\n\u001b[1;32m    189\u001b[0m \u001b[38;5;124;03m  dataset is not already in memory, this functions will load it, calling the\u001b[39;00m\n\u001b[1;32m    190\u001b[0m \u001b[38;5;124;03m  function `erddapClient.ERDDAP_Dataset.loadMetadata`\u001b[39;00m\n\u001b[1;32m    191\u001b[0m \n\u001b[1;32m    192\u001b[0m \u001b[38;5;124;03m  \"\"\"\u001b[39;00m\n\u001b[0;32m--> 193\u001b[0m   \u001b[38;5;28;43mself\u001b[39;49m\u001b[38;5;241;43m.\u001b[39;49m\u001b[43mloadMetadata\u001b[49m\u001b[43m(\u001b[49m\u001b[43m)\u001b[49m\n\u001b[1;32m    194\u001b[0m   \u001b[38;5;28;01mif\u001b[39;00m variableName \u001b[38;5;241m==\u001b[39m \u001b[38;5;124m'\u001b[39m\u001b[38;5;124mNC_GLOBAL\u001b[39m\u001b[38;5;124m'\u001b[39m:\n\u001b[1;32m    195\u001b[0m     \u001b[38;5;28;01mif\u001b[39;00m attribute \u001b[38;5;129;01min\u001b[39;00m \u001b[38;5;28mself\u001b[39m\u001b[38;5;241m.\u001b[39m__metadata[\u001b[38;5;124m'\u001b[39m\u001b[38;5;124mglobal\u001b[39m\u001b[38;5;124m'\u001b[39m]\u001b[38;5;241m.\u001b[39mkeys():\n",
      "File \u001b[0;32m~/miniconda3/envs/uhdas/lib/python3.11/site-packages/erddapClient/erddap_griddap.py:48\u001b[0m, in \u001b[0;36mERDDAP_Griddap.loadMetadata\u001b[0;34m(self, force)\u001b[0m\n\u001b[1;32m     38\u001b[0m \u001b[38;5;28;01mdef\u001b[39;00m \u001b[38;5;21mloadMetadata\u001b[39m(\u001b[38;5;28mself\u001b[39m, force\u001b[38;5;241m=\u001b[39m\u001b[38;5;28;01mFalse\u001b[39;00m):\n\u001b[1;32m     39\u001b[0m \u001b[38;5;250m  \u001b[39m\u001b[38;5;124;03m\"\"\"\u001b[39;00m\n\u001b[1;32m     40\u001b[0m \u001b[38;5;124;03m  Loads in to memory the metadata atributes and values available in the info\u001b[39;00m\n\u001b[1;32m     41\u001b[0m \u001b[38;5;124;03m  page of the dataset.\u001b[39;00m\n\u001b[0;32m   (...)\u001b[0m\n\u001b[1;32m     46\u001b[0m \u001b[38;5;124;03m  even if the information where already downloaded.   \u001b[39;00m\n\u001b[1;32m     47\u001b[0m \u001b[38;5;124;03m  \"\"\"\u001b[39;00m    \n\u001b[0;32m---> 48\u001b[0m   \u001b[38;5;28;01mif\u001b[39;00m \u001b[38;5;28;43msuper\u001b[39;49m\u001b[43m(\u001b[49m\u001b[43m)\u001b[49m\u001b[38;5;241;43m.\u001b[39;49m\u001b[43mloadMetadata\u001b[49m\u001b[43m(\u001b[49m\u001b[43mforce\u001b[49m\u001b[43m)\u001b[49m:\n\u001b[1;32m     49\u001b[0m     parseTimeRangeAttributes(\u001b[38;5;28mself\u001b[39m\u001b[38;5;241m.\u001b[39m_ERDDAP_Dataset__metadata[\u001b[38;5;124m'\u001b[39m\u001b[38;5;124mdimensions\u001b[39m\u001b[38;5;124m'\u001b[39m]\u001b[38;5;241m.\u001b[39mitems())\n",
      "File \u001b[0;32m~/miniconda3/envs/uhdas/lib/python3.11/site-packages/erddapClient/erddap_dataset.py:215\u001b[0m, in \u001b[0;36mERDDAP_Dataset.loadMetadata\u001b[0;34m(self, force)\u001b[0m\n\u001b[1;32m    205\u001b[0m \u001b[38;5;250m\u001b[39m\u001b[38;5;124;03m\"\"\"\u001b[39;00m\n\u001b[1;32m    206\u001b[0m \u001b[38;5;124;03mLoads in to memory the metadata atributes and values available in the info\u001b[39;00m\n\u001b[1;32m    207\u001b[0m \u001b[38;5;124;03mpage of the dataset.\u001b[39;00m\n\u001b[0;32m   (...)\u001b[0m\n\u001b[1;32m    212\u001b[0m \u001b[38;5;124;03meven if the information where already downloaded.    \u001b[39;00m\n\u001b[1;32m    213\u001b[0m \u001b[38;5;124;03m\"\"\"\u001b[39;00m\n\u001b[1;32m    214\u001b[0m \u001b[38;5;28;01mif\u001b[39;00m \u001b[38;5;28mself\u001b[39m\u001b[38;5;241m.\u001b[39m__metadata \u001b[38;5;129;01mis\u001b[39;00m \u001b[38;5;28;01mNone\u001b[39;00m \u001b[38;5;129;01mor\u001b[39;00m force:\n\u001b[0;32m--> 215\u001b[0m   rawRequest \u001b[38;5;241m=\u001b[39m \u001b[43murlread\u001b[49m\u001b[43m(\u001b[49m\u001b[38;5;28;43mself\u001b[39;49m\u001b[38;5;241;43m.\u001b[39;49m\u001b[43mgetMetadataURL\u001b[49m\u001b[43m(\u001b[49m\u001b[43m)\u001b[49m\u001b[43m,\u001b[49m\u001b[43m \u001b[49m\u001b[43mauth\u001b[49m\u001b[38;5;241;43m=\u001b[39;49m\u001b[38;5;28;43mself\u001b[39;49m\u001b[38;5;241;43m.\u001b[39;49m\u001b[43merddapauth\u001b[49m\u001b[43m)\u001b[49m\n\u001b[1;32m    216\u001b[0m   rawRequestJson \u001b[38;5;241m=\u001b[39m rawRequest\u001b[38;5;241m.\u001b[39mjson()\n\u001b[1;32m    217\u001b[0m   \u001b[38;5;28mself\u001b[39m\u001b[38;5;241m.\u001b[39m__metadata \u001b[38;5;241m=\u001b[39m parseDictMetadata(rawRequestJson)\n",
      "File \u001b[0;32m~/miniconda3/envs/uhdas/lib/python3.11/site-packages/erddapClient/remote_requests.py:27\u001b[0m, in \u001b[0;36murlread\u001b[0;34m(url, auth, **kwargs)\u001b[0m\n\u001b[1;32m     25\u001b[0m \u001b[38;5;28;01melse\u001b[39;00m:\n\u001b[1;32m     26\u001b[0m     \u001b[38;5;28mprint\u001b[39m (\u001b[38;5;124m\"\u001b[39m\u001b[38;5;124mERDDAP Error: \u001b[39m\u001b[38;5;130;01m\\\"\u001b[39;00m\u001b[38;5;132;01m{}\u001b[39;00m\u001b[38;5;130;01m\\\"\u001b[39;00m\u001b[38;5;124m\"\u001b[39m\u001b[38;5;241m.\u001b[39mformat(getMessageError(response\u001b[38;5;241m.\u001b[39mtext)))\n\u001b[0;32m---> 27\u001b[0m     \u001b[43mresponse\u001b[49m\u001b[38;5;241;43m.\u001b[39;49m\u001b[43mraise_for_status\u001b[49m\u001b[43m(\u001b[49m\u001b[43m)\u001b[49m\n",
      "File \u001b[0;32m~/miniconda3/envs/uhdas/lib/python3.11/site-packages/requests/models.py:1024\u001b[0m, in \u001b[0;36mResponse.raise_for_status\u001b[0;34m(self)\u001b[0m\n\u001b[1;32m   1019\u001b[0m     http_error_msg \u001b[38;5;241m=\u001b[39m (\n\u001b[1;32m   1020\u001b[0m         \u001b[38;5;124mf\u001b[39m\u001b[38;5;124m\"\u001b[39m\u001b[38;5;132;01m{\u001b[39;00m\u001b[38;5;28mself\u001b[39m\u001b[38;5;241m.\u001b[39mstatus_code\u001b[38;5;132;01m}\u001b[39;00m\u001b[38;5;124m Server Error: \u001b[39m\u001b[38;5;132;01m{\u001b[39;00mreason\u001b[38;5;132;01m}\u001b[39;00m\u001b[38;5;124m for url: \u001b[39m\u001b[38;5;132;01m{\u001b[39;00m\u001b[38;5;28mself\u001b[39m\u001b[38;5;241m.\u001b[39murl\u001b[38;5;132;01m}\u001b[39;00m\u001b[38;5;124m\"\u001b[39m\n\u001b[1;32m   1021\u001b[0m     )\n\u001b[1;32m   1023\u001b[0m \u001b[38;5;28;01mif\u001b[39;00m http_error_msg:\n\u001b[0;32m-> 1024\u001b[0m     \u001b[38;5;28;01mraise\u001b[39;00m HTTPError(http_error_msg, response\u001b[38;5;241m=\u001b[39m\u001b[38;5;28mself\u001b[39m)\n",
      "\u001b[0;31mHTTPError\u001b[0m: 400 Client Error:  for url: https://coastwatch.pfeg.noaa.gov/erddap/griddap/goes_west.nc?sea_surface_temperature%5B(2024-06-07T16:00:00Z):1:(2024-06-07T16:00:00Z)%5D%5B(60):1:(30)%5D%5B(-90):1:(-30)%5D/info/goes_west/index.json"
     ]
    }
   ],
   "source": [
    "print(remote)"
   ]
  }
 ],
 "metadata": {
  "kernelspec": {
   "display_name": "uhdas",
   "language": "python",
   "name": "python3"
  },
  "language_info": {
   "codemirror_mode": {
    "name": "ipython",
    "version": 3
   },
   "file_extension": ".py",
   "mimetype": "text/x-python",
   "name": "python",
   "nbconvert_exporter": "python",
   "pygments_lexer": "ipython3",
   "version": "3.11.7"
  }
 },
 "nbformat": 4,
 "nbformat_minor": 2
}
